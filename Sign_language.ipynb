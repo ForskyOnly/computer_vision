{
  "cells": [
    {
      "attachments": {},
      "cell_type": "markdown",
      "metadata": {
        "colab_type": "text",
        "id": "view-in-github"
      },
      "source": [
        "<a href=\"https://colab.research.google.com/github/ForskyOnly/computer_vision/blob/main/Sign_language.ipynb\" target=\"_parent\"><img src=\"https://colab.research.google.com/assets/colab-badge.svg\" alt=\"Open In Colab\"/></a>"
      ]
    },
    {
      "attachments": {},
      "cell_type": "markdown",
      "metadata": {
        "id": "Ec7IJswnc7aZ"
      },
      "source": [
        "[![Project with Roboflow Datasets](https://ik.imagekit.io/roboflow/notebooks/template/bannertest2-2.png?ik-sdk-version=javascript-1.4.3&updatedAt=1672932710194)](https://universe.roboflow.com/roboflow-100/sign-language-sokdr/model/1)\n",
        "# Train YOLOv8 Object Detection on a Roboflow Dataset\n",
        "\n",
        "[![Roboflow](https://raw.githubusercontent.com/roboflow-ai/notebooks/main/assets/badges/roboflow-blogpost.svg)](https://blog.roboflow.com/how-to-train-yolov8-on-a-custom-dataset)\n",
        "\n",
        "Ultralytics YOLOv8 is the latest version of the YOLO (You Only Look Once) object detection and image segmentation model developed by Ultralytics. The YOLOv8 model is designed to be fast, accurate, and easy to use, making it an excellent choice for a wide range of object detection and image segmentation tasks. It can be trained on large datasets and is capable of running on a variety of hardware platforms, from CPUs to GPUs.\n",
        "\n"
      ]
    },
    {
      "cell_type": "code",
      "execution_count": null,
      "metadata": {
        "id": "CiEpnDv00bvt"
      },
      "outputs": [],
      "source": [
        "import tensorflow as tf\n",
        "import matplotlib.pyplot as plt"
      ]
    },
    {
      "attachments": {},
      "cell_type": "markdown",
      "metadata": {
        "id": "xtrj4tIxgLxy"
      },
      "source": [
        "## Install roboflow and ultralytics"
      ]
    },
    {
      "cell_type": "code",
      "execution_count": null,
      "metadata": {
        "id": "4EQ6jH3G2J3E"
      },
      "outputs": [],
      "source": [
        "!pip install roboflow"
      ]
    },
    {
      "cell_type": "code",
      "execution_count": null,
      "metadata": {
        "id": "W9PnGsj_Y64I"
      },
      "outputs": [],
      "source": [
        "!pip install ultralytics"
      ]
    },
    {
      "attachments": {},
      "cell_type": "markdown",
      "metadata": {
        "id": "UUQ9zC4ZgWAt"
      },
      "source": [
        "## Import data"
      ]
    },
    {
      "cell_type": "code",
      "execution_count": null,
      "metadata": {
        "id": "1JkkwI0g0cwp"
      },
      "outputs": [],
      "source": [
        "from roboflow import Roboflow\n",
        "rf = Roboflow(api_key=\"8gLn8sffNZv2kFSo4IYP\")\n",
        "project = rf.workspace(\"roboflow-100\").project(\"sign-language-sokdr\")\n",
        "dataset = project.version(2).download(\"yolov8\")\n"
      ]
    },
    {
      "cell_type": "code",
      "execution_count": null,
      "metadata": {
        "id": "JTqzJMzS0cuF"
      },
      "outputs": [],
      "source": [
        "project.type"
      ]
    },
    {
      "cell_type": "code",
      "execution_count": null,
      "metadata": {
        "id": "ha8UVDJ5DCJ0"
      },
      "outputs": [],
      "source": [
        "from ultralytics import YOLO\n",
        "from IPython.display import display, Image"
      ]
    },
    {
      "cell_type": "code",
      "execution_count": null,
      "metadata": {
        "id": "PSS9tguxSeyH"
      },
      "outputs": [],
      "source": [
        "model = YOLO(f'/yolov8n-cls.pt')"
      ]
    },
    {
      "attachments": {},
      "cell_type": "markdown",
      "metadata": {
        "id": "Y5FGbKDnggRT"
      },
      "source": [
        "## Training Model"
      ]
    },
    {
      "cell_type": "code",
      "execution_count": null,
      "metadata": {
        "id": "po7NjJupSc87"
      },
      "outputs": [],
      "source": [
        "from ultralytics import YOLO\n",
        "\n",
        "model = YOLO(\"yolov8n.pt\")\n",
        "\n",
        "model.train(data=\"/content/sign-language-2/data.yaml\", epochs=15)\n",
        "\n",
        "metrics = model.val()\n",
        "\n",
        "path = model.export(format=\"onnx\")"
      ]
    },
    {
      "attachments": {},
      "cell_type": "markdown",
      "metadata": {
        "id": "g8trtVVkgks9"
      },
      "source": [
        "## Testing Model"
      ]
    },
    {
      "cell_type": "code",
      "execution_count": null,
      "metadata": {
        "id": "FZbOfCwygaNi"
      },
      "outputs": [],
      "source": [
        "from ultralytics import YOLO\n",
        "from PIL import Image\n",
        "import cv2\n",
        "\n",
        "model = model\n",
        "\n",
        "#results = model.predict(source=\"folder\", show=True) # Display preds. Accepts all YOLO predict arguments\n",
        "\n",
        "#from PIL\n",
        "im1 = Image.open(\"/content/sign-language-2/test/images/B14_jpg.rf.85f67b103a1aaef05506af61cb1ef72d.jpg\")\n",
        "results = model.predict(source=im1, save=True)  # save plotted images\n"
      ]
    },
    {
      "cell_type": "code",
      "execution_count": null,
      "metadata": {
        "id": "1mxyMJVk6iGB"
      },
      "outputs": [],
      "source": [
        "from IPython.display import display, Image"
      ]
    },
    {
      "cell_type": "code",
      "execution_count": null,
      "metadata": {
        "id": "W1efYIVL6iBw"
      },
      "outputs": [],
      "source": [
        "Image(filename='/content/runs/detect/predict/B14_jpg.rf.85f67b103a1aaef05506af61cb1ef72d.jpg', height=300)"
      ]
    },
    {
      "cell_type": "code",
      "execution_count": null,
      "metadata": {
        "id": "AD75Befm7zvn"
      },
      "outputs": [],
      "source": [
        "from IPython.display import display, Image\n",
        "Image(filename='/content/runs/detect/val/val_batch0_labels.jpg', height=600)"
      ]
    },
    {
      "cell_type": "code",
      "execution_count": null,
      "metadata": {
        "id": "4BqyLwLSBn3z"
      },
      "outputs": [],
      "source": [
        "from IPython.display import display, Image\n",
        "Image(filename='/content/runs/detect/val/val_batch0_pred.jpg', height=600)"
      ]
    },
    {
      "cell_type": "code",
      "execution_count": null,
      "metadata": {
        "id": "pQ_tv1h7Bn0-"
      },
      "outputs": [],
      "source": [
        "from IPython.display import display, Image\n",
        "Image(filename='/content/runs/detect/val/P_curve.png', height=500)"
      ]
    },
    {
      "cell_type": "code",
      "execution_count": null,
      "metadata": {
        "id": "n6SuOWtSIOEK"
      },
      "outputs": [],
      "source": [
        "import subprocess\n",
        "\n",
        "# Définir les arguments de la commande YOLO\n",
        "task = \"detect\"\n",
        "mode = \"predict\"\n",
        "model = \"/content/runs/detect/train3/weights/best.pt\"\n",
        "conf = 0.25\n",
        "source = f\"/content/sign-language-2/test/images\"\n",
        "save = True\n",
        "\n",
        "# Construire la commande YOLO\n",
        "command = f\"!yolo task={task} mode={mode} model={model} conf={conf} source={source} save={save}\"\n",
        "\n",
        "# Exécuter la commande shell\n",
        "subprocess.call(command, shell=True)"
      ]
    },
    {
      "cell_type": "code",
      "execution_count": null,
      "metadata": {
        "id": "LsEf_N6aKoKJ"
      },
      "outputs": [],
      "source": [
        "from ultralytics import YOLO\n",
        "from PIL import Image\n",
        "\n",
        "# Définir les chemins d'accès et les paramètres\n",
        "model_path = \"/content/runs/detect/train/weights/best.pt\"\n",
        "image_folder = \"/content/sign-language-2/test/images\"\n",
        "conf_threshold = 0.25\n",
        "\n",
        "# Charger le modèle YOLO\n",
        "model = YOLO(model_path)\n",
        "\n",
        "# Charger et prédire les images du dossier\n",
        "results = model.predict(image_folder, conf=conf_threshold, save=True)\n",
        "\n",
        "# Récupérer les chemins des images prédites\n",
        "predicted_image_paths = results.save_dir.glob(\"*.jpg\")\n",
        "\n",
        "# Déplacer les images prédites vers le dossier souhaité\n",
        "destination_folder = \"/content/predict\"\n",
        "for image_path in predicted_image_paths:\n",
        "    destination_path = destination_folder + \"/\" + image_path.name\n",
        "    image_path.rename(destination_path)\n",
        "\n",
        "# Afficher les chemins des images prédites\n",
        "print(\"Chemins des images prédites :\")\n",
        "for image_path in predicted_image_paths:\n",
        "    print(image_path)"
      ]
    },
    {
      "cell_type": "code",
      "execution_count": null,
      "metadata": {
        "id": "jk4qIX-eIaRU"
      },
      "outputs": [],
      "source": [
        "import glob\n",
        "from IPython.display import Image, display\n",
        "\n",
        "for image_path in glob.glob(f'/content/runs/detect/predict2/*.jpg')[:4]:\n",
        "      display(Image(filename=image_path, width=200))\n",
        "      print(\"\\n\")"
      ]
    },
    {
      "attachments": {},
      "cell_type": "markdown",
      "metadata": {
        "id": "Be78tIgAAse3"
      },
      "source": [
        "# Transfer Learning\n"
      ]
    },
    {
      "cell_type": "code",
      "execution_count": null,
      "metadata": {
        "id": "M0fGlPyD7zpw"
      },
      "outputs": [],
      "source": [
        "from ultralytics import YOLO\n",
        "\n",
        "model = YOLO(\"yolov8n.pt\")\n",
        "\n",
        "for param in model.model.parameters():\n",
        "  param.requires_grad = False\n",
        "\n",
        "model.train(data=\"/content/sign-language-2/data.yaml\", epochs=15,  dropout=0.3, patience=5, batch=16, seed=42)\n",
        "\n",
        "for param in model.model.parameters():\n",
        "  param.requires_grad = True\n",
        "\n",
        "model.train(data=\"/content/sign-language-2/data.yaml\", epochs=5, patience=3, dropout=0.3, batch=16, seed=42)\n",
        "\n",
        "metrics = model.val()\n",
        "\n",
        "path = model.export(format=\"onnx\")"
      ]
    },
    {
      "cell_type": "code",
      "execution_count": null,
      "metadata": {
        "id": "HNvRUYGAUpTr"
      },
      "outputs": [],
      "source": []
    },
    {
      "cell_type": "code",
      "execution_count": null,
      "metadata": {
        "id": "NZXzmOIiUpRF"
      },
      "outputs": [],
      "source": []
    },
    {
      "cell_type": "code",
      "execution_count": null,
      "metadata": {
        "id": "Tl23G1NZUpOe"
      },
      "outputs": [],
      "source": []
    }
  ],
  "metadata": {
    "colab": {
      "gpuType": "T4",
      "include_colab_link": true,
      "private_outputs": true,
      "provenance": []
    },
    "kernelspec": {
      "display_name": "Python 3",
      "name": "python3"
    },
    "language_info": {
      "name": "python"
    }
  },
  "nbformat": 4,
  "nbformat_minor": 0
}
